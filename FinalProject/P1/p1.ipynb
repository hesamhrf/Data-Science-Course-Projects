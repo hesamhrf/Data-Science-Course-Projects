{
 "cells": [
  {
   "cell_type": "markdown",
   "metadata": {},
   "source": [
    "### Ali Darabi - 810100264\n",
    "### Hesam Ramezanian - 810100248\n",
    "### MohammadReza Alavi - 810100253"
   ]
  },
  {
   "cell_type": "markdown",
   "metadata": {},
   "source": [
    "# Data Science - Project Phase 1"
   ]
  },
  {
   "cell_type": "code",
   "execution_count": null,
   "metadata": {},
   "outputs": [],
   "source": [
    "import pandas as pd\n",
    "import plotly.express as px\n",
    "import plotly.graph_objs as go\n",
    "from plotly.subplots import make_subplots\n",
    "import matplotlib.pyplot as plt\n",
    "import seaborn as sns\n",
    "import numpy as np\n",
    "import re\n",
    "import warnings"
   ]
  },
  {
   "cell_type": "code",
   "execution_count": null,
   "metadata": {},
   "outputs": [],
   "source": [
    "df = pd.read_csv('Beijing.csv', encoding='gb18030')\n",
    "df.info()"
   ]
  },
  {
   "cell_type": "code",
   "execution_count": null,
   "metadata": {},
   "outputs": [],
   "source": [
    "df.head()"
   ]
  },
  {
   "cell_type": "markdown",
   "metadata": {},
   "source": [
    "# <span style=\"color:cyan\">Preprocessing:</span>"
   ]
  },
  {
   "cell_type": "code",
   "execution_count": null,
   "metadata": {},
   "outputs": [],
   "source": [
    "df = df.drop('url', axis=1)\n",
    "df = df.drop('id', axis=1)"
   ]
  },
  {
   "cell_type": "markdown",
   "metadata": {},
   "source": [
    "<span style=\"color:pink\">We drop these columns because they have no use for us.</span>"
   ]
  },
  {
   "cell_type": "code",
   "execution_count": null,
   "metadata": {},
   "outputs": [],
   "source": [
    "df.isnull().sum()"
   ]
  },
  {
   "cell_type": "code",
   "execution_count": null,
   "metadata": {},
   "outputs": [],
   "source": [
    "warnings.filterwarnings(\"ignore\")\n",
    "missingDf = df.isnull().sum().reset_index()\n",
    "missingDf.columns = ['Variable', 'value']\n",
    "missing = missingDf[missingDf['value'] > 0]\n",
    "missing.loc[missing.index, 'value'] = missing['value'] / len(df)\n",
    "missing = missing.sort_values(by='value', ascending=False)\n",
    "\n",
    "fig = px.bar(missing, x='value', y='Variable', orientation='h',\n",
    "             color='value', color_continuous_scale='Blackbody',\n",
    "             text='value', text_auto='.2%',\n",
    "             hover_data={'value': ':.2%'})\n",
    "\n",
    "fig.update_layout(\n",
    "    title={\n",
    "        'text': 'Missing Value Proportion',\n",
    "        'font': {'family': 'Lato', 'size': 20, 'weight': 'bold'}\n",
    "    },\n",
    "    xaxis_title={\n",
    "        'text': 'Proportion of Missing Values',\n",
    "        'font': {'family': 'Lato', 'size': 16, 'weight': 'bold'}\n",
    "    },\n",
    "    yaxis_title={\n",
    "        'text': 'Variable',\n",
    "        'font': {'family': 'Lato', 'size': 16, 'weight': 'bold'}\n",
    "    },\n",
    "    font=dict(family='Lato', size=16),\n",
    "    template='seaborn',\n",
    "    height=600,\n",
    "    bargap=0.1\n",
    ")\n",
    "\n",
    "fig.update_traces(\n",
    "    opacity=0.9\n",
    ")\n",
    "\n",
    "fig.show()"
   ]
  },
  {
   "cell_type": "code",
   "execution_count": null,
   "metadata": {},
   "outputs": [],
   "source": [
    "df = df.drop('DOM', axis=1)\n",
    "df = df.dropna(how='any')"
   ]
  },
  {
   "cell_type": "markdown",
   "metadata": {},
   "source": [
    "<span style=\"color:pink\">As you can see, about 50 percent of the 'DOM' column is missing values, so we drop this column.</span>\n",
    "\n",
    "<span style=\"color:pink\">Because the number of missing values in other columns is small (under 1 percent), we drop these rows.</span>"
   ]
  },
  {
   "cell_type": "code",
   "execution_count": null,
   "metadata": {},
   "outputs": [],
   "source": [
    "print(\"Dataset size after dropping missing values: \", len(df))"
   ]
  },
  {
   "cell_type": "code",
   "execution_count": null,
   "metadata": {},
   "outputs": [],
   "source": [
    "df['livingRoom'] = pd.to_numeric(df['livingRoom'], errors='coerce')\n",
    "df['livingRoom'].unique()"
   ]
  },
  {
   "cell_type": "code",
   "execution_count": null,
   "metadata": {},
   "outputs": [],
   "source": [
    "df['drawingRoom'] = pd.to_numeric(df['drawingRoom'], errors='coerce')\n",
    "df['drawingRoom'].unique()   "
   ]
  },
  {
   "cell_type": "code",
   "execution_count": null,
   "metadata": {},
   "outputs": [],
   "source": [
    "df['bathRoom'] = pd.to_numeric(df['bathRoom'], errors='coerce')\n",
    "df['bathRoom'].unique()       "
   ]
  },
  {
   "cell_type": "code",
   "execution_count": null,
   "metadata": {},
   "outputs": [],
   "source": [
    "df['constructionTime'] = pd.to_numeric(df['constructionTime'], errors='coerce')     \n",
    "df['constructionTime'].unique()"
   ]
  },
  {
   "cell_type": "markdown",
   "metadata": {},
   "source": [
    "<span style=\"color:pink\">Because in some columns we have string values like '1' mixed with int values, we have to convert these values to numeric values.</span>"
   ]
  },
  {
   "cell_type": "code",
   "execution_count": null,
   "metadata": {},
   "outputs": [],
   "source": [
    "df['constructionTime'] = df['constructionTime'].interpolate(method='linear')\n",
    "df['constructionTime'] = df['constructionTime'].round()\n",
    "df['constructionTime'] = df['constructionTime'].astype(int)"
   ]
  },
  {
   "cell_type": "markdown",
   "metadata": {},
   "source": [
    "<span style=\"color:pink\">In the `constructionTime` column, we have NaN values, so we have to fill them. We use the interpolation method.</span>"
   ]
  },
  {
   "cell_type": "code",
   "execution_count": null,
   "metadata": {},
   "outputs": [],
   "source": [
    "df['tradeTime'] = pd.to_datetime(df['tradeTime'])\n",
    "df['tradeTimeYear'] = df['tradeTime'].dt.year\n",
    "df['tradeTimeMonth'] = df['tradeTime'].dt.month\n",
    "df = df.drop('tradeTime', axis=1)\n",
    "df['tradeTimeYear'].value_counts()"
   ]
  },
  {
   "cell_type": "markdown",
   "metadata": {},
   "source": [
    "<span style=\"color:pink\">We convert `tradeTime` to Date and then add two columns `tradeTimeYear` and `tradeTimeMonth`, and then drop the original `tradeTime` column.</span>"
   ]
  },
  {
   "cell_type": "code",
   "execution_count": null,
   "metadata": {},
   "outputs": [],
   "source": [
    "df = df[df['tradeTimeYear'] > 2009]\n",
    "df['tradeTimeYear'].value_counts()"
   ]
  },
  {
   "cell_type": "markdown",
   "metadata": {},
   "source": [
    "<span style=\"color:pink\">In this part, we remove outliers from the `tradeTimeYear` column.</span>"
   ]
  },
  {
   "cell_type": "code",
   "execution_count": null,
   "metadata": {},
   "outputs": [],
   "source": [
    "unique = df[\"floor\"].unique()\n",
    "arr = [re.sub(r'\\d+', '', s) for s in unique]\n",
    "newArr = list(set(arr))\n",
    "print(\"Unique chinese words: \", newArr)"
   ]
  },
  {
   "cell_type": "code",
   "execution_count": null,
   "metadata": {},
   "outputs": [],
   "source": [
    "translationDict = {\n",
    "    '底': 'Bottom',\n",
    "    '未知': 'Unknown',\n",
    "    '中': 'Middle',\n",
    "    '钢混结构': 'Steel-concrete composite structure',\n",
    "    '高': 'High',\n",
    "    '顶': 'Top',\n",
    "    '混合结构': 'Mixed structure',\n",
    "    '低': 'Low'\n",
    "}\n",
    "\n",
    "def Translate(df, col):\n",
    "    df[col] = df[col].replace(translationDict, regex=True)\n",
    "    print(col,\" : \",df[col].unique())"
   ]
  },
  {
   "cell_type": "code",
   "execution_count": null,
   "metadata": {},
   "outputs": [],
   "source": [
    "translateColumns = ['drawingRoom', 'bathRoom', 'floor', 'constructionTime']\n",
    "for col in translateColumns:\n",
    "    Translate(df, col)"
   ]
  },
  {
   "cell_type": "markdown",
   "metadata": {},
   "source": [
    "<span style=\"color:pink\">We have to translate these columns because they are made up of Chinese words.</span>"
   ]
  },
  {
   "cell_type": "code",
   "execution_count": null,
   "metadata": {},
   "outputs": [],
   "source": [
    "df['buildingStructure'].unique()"
   ]
  },
  {
   "cell_type": "code",
   "execution_count": null,
   "metadata": {},
   "outputs": [],
   "source": [
    "df = df[df['buildingStructure'] != 1]\n",
    "df['buildingStructure'].unique()"
   ]
  },
  {
   "cell_type": "markdown",
   "metadata": {},
   "source": [
    "<span style=\"color:pink\">We drop rows with unknown values for the `buildingStructure` column because there are only 45 of them.</span>"
   ]
  },
  {
   "cell_type": "code",
   "execution_count": null,
   "metadata": {},
   "outputs": [],
   "source": [
    "print(\"The coordinates of the lower left corner:\", min(df['Lat']), min(df['Lng']))\n",
    "print(\"The coordinates of the upper right corner:\", max(df['Lat']), max(df['Lng']))"
   ]
  },
  {
   "cell_type": "code",
   "execution_count": null,
   "metadata": {},
   "outputs": [],
   "source": [
    "def extractFloorNumber(floor):\n",
    "    match = re.search(r'\\d+', floor)\n",
    "    return int(match.group()) if match else None\n",
    "\n",
    "df['floorNumber'] = df['floor'].apply(extractFloorNumber)\n",
    "df = df.drop('floor', axis=1)\n",
    "df['floorNumber'].unique()"
   ]
  },
  {
   "cell_type": "markdown",
   "metadata": {},
   "source": [
    "<span style=\"color:pink\">We create a new column called `floorNumber` from the `floor` column and then drop the original column.</span>"
   ]
  },
  {
   "cell_type": "markdown",
   "metadata": {},
   "source": [
    "# <span style=\"color:cyan\">Plots:</span>"
   ]
  },
  {
   "cell_type": "code",
   "execution_count": null,
   "metadata": {},
   "outputs": [],
   "source": [
    "def drawBeijingHousingDistribution(column, color, df):\n",
    "    img = plt.imread(\"map1.jpg\")\n",
    "    fig, ax = plt.subplots(figsize=(12, 12))\n",
    "    ax.imshow(img, alpha=0.5, extent=[116.07 ,116.74, 39.62, 40.26], aspect='auto')\n",
    "    sns.scatterplot(data=df, x=\"Lng\", y=\"Lat\", alpha=0.8, hue=column, palette=color,size='price',sizes=(1,250))\n",
    "    plt.legend(loc='best')\n",
    "    plt.xlabel('longtitude', fontsize=18)\n",
    "    plt.ylabel('latitude', fontsize=18)\n",
    "    plt.title(f'Beijing housing distribution by {column}', fontsize=24)\n",
    "    plt.show()"
   ]
  },
  {
   "cell_type": "code",
   "execution_count": null,
   "metadata": {},
   "outputs": [],
   "source": [
    "valueMap = {\n",
    "    2: \"mixed\",\n",
    "    3: \"brick and wood\",\n",
    "    4: \"brick and concrete\",\n",
    "    5: \"steel\",\n",
    "    6: \"steel-concrete composite\"\n",
    "}\n",
    "newDf = df.copy()\n",
    "newDf[\"buildingStructure\"] = df[\"buildingStructure\"].map(valueMap)\n",
    "drawBeijingHousingDistribution(\"buildingStructure\", \"plasma\", newDf)"
   ]
  },
  {
   "cell_type": "markdown",
   "metadata": {},
   "source": [
    "<span style=\"color:pink\">As you can see, most of the houses are made of steel-concrete composite and mixed, and their distribution is spread on the map.</span>"
   ]
  },
  {
   "cell_type": "code",
   "execution_count": null,
   "metadata": {},
   "outputs": [],
   "source": [
    "data = df['price']\n",
    "numBins = int(np.sqrt(len(data)))\n",
    "fig = px.histogram(df, x='price', nbins=numBins, title='Distribution of Housing Prices')\n",
    "fig.update_layout(xaxis_title='Price', yaxis_title='Count', bargap=0.1)\n",
    "fig.show()"
   ]
  },
  {
   "cell_type": "markdown",
   "metadata": {},
   "source": [
    "<span style=\"color:pink\">The histogram highlights the prevalence of lower-priced housing units in Beijing, with a concentration around the 20k-40k range and a steep drop-off in frequency as prices increase, indicating a skewed market favoring affordability over luxury housing.</span>"
   ]
  },
  {
   "cell_type": "code",
   "execution_count": null,
   "metadata": {},
   "outputs": [],
   "source": [
    "df['subway'] = df['subway'].astype(int)\n",
    "df['subway'].unique()"
   ]
  },
  {
   "cell_type": "code",
   "execution_count": null,
   "metadata": {},
   "outputs": [],
   "source": [
    "valueMap = {\n",
    "    0: \"no Subway\",\n",
    "    1: \"has Subway\",\n",
    "}\n",
    "newDf[\"subway\"] = df[\"subway\"].map(valueMap)\n",
    "drawBeijingHousingDistribution(\"subway\", \"plasma\", newDf)"
   ]
  },
  {
   "cell_type": "markdown",
   "metadata": {},
   "source": [
    "<span style=\"color:pink\">As you can see, most houses near the center of the city have access to the subway.</span>\n"
   ]
  },
  {
   "cell_type": "code",
   "execution_count": null,
   "metadata": {},
   "outputs": [],
   "source": [
    "drawBeijingHousingDistribution(\"district\", \"muted\", df)"
   ]
  },
  {
   "cell_type": "code",
   "execution_count": null,
   "metadata": {},
   "outputs": [],
   "source": [
    "sns.displot(df, x='price', hue='district', palette='muted', alpha=1, multiple=\"stack\", height=8, aspect=1.5)\n",
    "plt.title(\"Distribution of Prices by District\")\n",
    "plt.show()"
   ]
  },
  {
   "cell_type": "markdown",
   "metadata": {},
   "source": [
    "<span style=\"color:pink\">As the number of the district increases, the price range decreases, and the number of houses also decreases. The reason for this could be that districts with higher numbers are usually around the city.</span>"
   ]
  },
  {
   "cell_type": "code",
   "execution_count": null,
   "metadata": {},
   "outputs": [],
   "source": [
    "dfNoElevator = df[df['elevator'] == 0]\n",
    "dfWithElevator = df[df['elevator'] == 1]"
   ]
  },
  {
   "cell_type": "code",
   "execution_count": null,
   "metadata": {},
   "outputs": [],
   "source": [
    "colors = ['#1f77b4', '#ff7f0e']\n",
    "plt.pie(df['elevator'].value_counts().values, colors=colors,\n",
    "           wedgeprops=dict(width=.8),autopct='%1.2f%%')\n",
    "plt.title('percentage of having elevator') \n",
    "plt.legend(loc=\"upper right\",\n",
    "           labels=['with elevator', 'without elevator'])\n",
    "plt.show()\n",
    "\n",
    "fig = make_subplots(rows=1, cols=2, shared_xaxes=True, shared_yaxes=True, subplot_titles=('Distribution of Floor Numbers (Elevator = 0)', 'Distribution of Floor Numbers (Elevator = 1)'))\n",
    "trace1 = go.Histogram(x=dfNoElevator['floorNumber'], nbinsx=20, histnorm='probability density', name='Elevator = 0')\n",
    "trace2 = go.Histogram(x=dfWithElevator['floorNumber'], nbinsx=20, histnorm='probability density', name='Elevator = 1')\n",
    "fig.add_trace(trace1, row=1, col=1)\n",
    "fig.add_trace(trace2, row=1, col=2)\n",
    "fig.update_layout(\n",
    "    title='Floor Number Distribution',\n",
    "    xaxis1_title='Floor Number',\n",
    "    xaxis2_title='Floor Number',\n",
    "    yaxis1_title='Frequency',\n",
    "    yaxis2_title='Frequency',\n",
    "    bargap=0.1,\n",
    "    height=500,\n",
    "    width=1000,\n",
    "    xaxis1=dict(tickmode='linear', tick0=0, dtick=5),\n",
    "    xaxis2=dict(tickmode='linear', tick0=0, dtick=5)\n",
    ")\n",
    "fig.show()"
   ]
  },
  {
   "cell_type": "markdown",
   "metadata": {},
   "source": [
    "<span style=\"color:pink\">As you can see in the plots, houses with higher `floorNumber` have elevators, and most houses with no elevator are under 10 floors.</span>"
   ]
  },
  {
   "cell_type": "code",
   "execution_count": null,
   "metadata": {},
   "outputs": [],
   "source": [
    "trace1 = go.Bar(\n",
    "    x=df['tradeTimeYear'].value_counts().index,\n",
    "    y=df['tradeTimeYear'].value_counts().values,\n",
    "    marker=dict(color='#4CAF50'),  \n",
    "    text=df['tradeTimeYear'].value_counts().values,\n",
    "    textposition='auto'\n",
    ")\n",
    "trace2 = go.Bar(\n",
    "    x=df['tradeTimeMonth'].value_counts().index,\n",
    "    y=df['tradeTimeMonth'].value_counts().values,\n",
    "    marker=dict(color='#2196F3'), \n",
    "    text=df['tradeTimeMonth'].value_counts().values,\n",
    "    textposition='auto'\n",
    ")\n",
    "fig = make_subplots(rows=1, cols=2, subplot_titles=['Number of Transactions by Year', 'Number of Transactions by Month'])\n",
    "fig.add_trace(trace1, row=1, col=1)\n",
    "fig.add_trace(trace2, row=1, col=2)\n",
    "fig.update_layout(\n",
    "    title='Transactions over Time',\n",
    "    height=600,\n",
    "    width=1200,\n",
    "    bargap=0.1,\n",
    "    xaxis1_tickmode='linear', \n",
    "    xaxis1_tickvals=sorted(df['tradeTimeYear'].unique()),\n",
    "    xaxis1_title='Year',\n",
    "    xaxis2_title='Month',\n",
    "    yaxis1_title='Number of Transactions',\n",
    "    yaxis2_title='Number of Transactions'\n",
    ")\n",
    "fig.show()"
   ]
  },
  {
   "cell_type": "markdown",
   "metadata": {},
   "source": [
    "<span style=\"color:pink\">As you can see, in the third month, we have a higher number of transactions, and after the year 2016, the number of transactions greatly decreased.</span>"
   ]
  },
  {
   "cell_type": "code",
   "execution_count": null,
   "metadata": {},
   "outputs": [],
   "source": [
    "def plotOverAvgTotalPrice(columnName):\n",
    "    AvgPrice = df.groupby(columnName)['totalPrice'].mean().reset_index()\n",
    "    AvgPrice = AvgPrice.rename(columns={'totalPrice': 'AvgTotalPrice'})\n",
    "    fig = px.line(AvgPrice, x=columnName, y='AvgTotalPrice', title=f'Average Price Over {columnName}')\n",
    "    fig.show()"
   ]
  },
  {
   "cell_type": "code",
   "execution_count": null,
   "metadata": {},
   "outputs": [],
   "source": [
    "plotOverAvgTotalPrice('tradeTimeYear')"
   ]
  },
  {
   "cell_type": "markdown",
   "metadata": {},
   "source": [
    "<span style=\"color:pink\">As you can see on the plot, as time increases, the average price also increases.</span>"
   ]
  },
  {
   "cell_type": "code",
   "execution_count": null,
   "metadata": {},
   "outputs": [],
   "source": [
    "corrMatrix = df.corr()\n",
    "plt.figure(figsize=(30, 15))\n",
    "mask = np.triu(np.ones_like(corrMatrix, dtype=bool))\n",
    "sns.heatmap(corrMatrix, annot=True, cmap='coolwarm', mask=mask)\n",
    "plt.title('Correlation Matrix')\n",
    "plt.show()"
   ]
  },
  {
   "cell_type": "code",
   "execution_count": null,
   "metadata": {},
   "outputs": [],
   "source": [
    "plotOverAvgTotalPrice('constructionTime')"
   ]
  },
  {
   "cell_type": "code",
   "execution_count": null,
   "metadata": {},
   "outputs": [],
   "source": [
    "df['constructionTime'].value_counts()"
   ]
  },
  {
   "cell_type": "markdown",
   "metadata": {},
   "source": [
    "<span style=\"color:pink\">In the Beijing housing market, properties built in a shorter timeframe tend to have higher average prices, while those with longer construction periods generally have lower average prices, with some exceptions. However, the scarcity of data points for older houses with longer construction times may affect the reliability of the average price calculations for those construction time durations.</span>"
   ]
  },
  {
   "cell_type": "code",
   "execution_count": null,
   "metadata": {},
   "outputs": [],
   "source": [
    "df['fiveYearsProperty'] = df['fiveYearsProperty'].astype(int)\n",
    "valueMap = {\n",
    "    0: \"less than 5 years\",\n",
    "    1: \"more than 5 years\",\n",
    "}\n",
    "newDf[\"fiveYearsProperty\"] = df[\"fiveYearsProperty\"].map(valueMap)\n",
    "drawBeijingHousingDistribution(\"fiveYearsProperty\", \"muted\", newDf)"
   ]
  },
  {
   "cell_type": "markdown",
   "metadata": {},
   "source": [
    "<span style=\"color:pink\">As you can see, houses whose owners have had the property for less than 5 years or more than 5 years are spread all over the map, and we cannot distinguish them.</span>"
   ]
  },
  {
   "cell_type": "code",
   "execution_count": null,
   "metadata": {},
   "outputs": [],
   "source": [
    "def plotRoomsOverAvgSquare(columnName):\n",
    "    avgSquare = df.groupby(columnName)['square'].mean().reset_index()\n",
    "    avgSquare = avgSquare.rename(columns={'square': 'Avgsquare'})\n",
    "    fig = px.line(avgSquare, x=columnName, y='Avgsquare', title=f'Average square Over {columnName}')\n",
    "    fig.show()"
   ]
  },
  {
   "cell_type": "code",
   "execution_count": null,
   "metadata": {},
   "outputs": [],
   "source": [
    "plotRoomsOverAvgSquare('livingRoom')"
   ]
  },
  {
   "cell_type": "code",
   "execution_count": null,
   "metadata": {},
   "outputs": [],
   "source": [
    "plotRoomsOverAvgSquare('drawingRoom')          "
   ]
  },
  {
   "cell_type": "code",
   "execution_count": null,
   "metadata": {},
   "outputs": [],
   "source": [
    "plotRoomsOverAvgSquare('bathRoom')  "
   ]
  },
  {
   "cell_type": "code",
   "execution_count": null,
   "metadata": {},
   "outputs": [],
   "source": [
    "plotRoomsOverAvgSquare('kitchen') "
   ]
  },
  {
   "cell_type": "markdown",
   "metadata": {},
   "source": [
    "<span style=\"color:pink\">As you can see in the plots, as the number of rooms or kitchens increases, the average square footage of houses also increases.</span>"
   ]
  }
 ],
 "metadata": {
  "kernelspec": {
   "display_name": "Python 3",
   "language": "python",
   "name": "python3"
  },
  "language_info": {
   "codemirror_mode": {
    "name": "ipython",
    "version": 3
   },
   "file_extension": ".py",
   "mimetype": "text/x-python",
   "name": "python",
   "nbconvert_exporter": "python",
   "pygments_lexer": "ipython3",
   "version": "3.12.2"
  }
 },
 "nbformat": 4,
 "nbformat_minor": 2
}
